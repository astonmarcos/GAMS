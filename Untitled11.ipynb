{
  "nbformat": 4,
  "nbformat_minor": 0,
  "metadata": {
    "colab": {
      "provenance": [],
      "authorship_tag": "ABX9TyNGuf4YrgTWysMFE+2iIlGX",
      "include_colab_link": true
    },
    "kernelspec": {
      "name": "python3",
      "display_name": "Python 3"
    },
    "language_info": {
      "name": "python"
    }
  },
  "cells": [
    {
      "cell_type": "markdown",
      "metadata": {
        "id": "view-in-github",
        "colab_type": "text"
      },
      "source": [
        "<a href=\"https://colab.research.google.com/github/astonmarcos/GAMS/blob/main/Untitled11.ipynb\" target=\"_parent\"><img src=\"https://colab.research.google.com/assets/colab-badge.svg\" alt=\"Open In Colab\"/></a>"
      ]
    },
    {
      "cell_type": "code",
      "execution_count": 47,
      "metadata": {
        "id": "KXTO2alysDTL"
      },
      "outputs": [],
      "source": [
        "# Importando as bibliotecas necessárias\n",
        "import pandas as pd\n",
        "import statsmodels.api as sm\n",
        "from sklearn.model_selection import train_test_split\n",
        "from sklearn.metrics import confusion_matrix, accuracy_score, roc_auc_score, roc_curve\n",
        "import matplotlib.pyplot as plt"
      ]
    },
    {
      "cell_type": "code",
      "source": [
        "# Carregando o dataset\n",
        "df = pd.read_csv('/content/aparenciadente.csv' , delimiter=';')\n"
      ],
      "metadata": {
        "id": "_AqIPgm0sgX2"
      },
      "execution_count": 48,
      "outputs": []
    },
    {
      "cell_type": "code",
      "source": [
        "print(df.columns)\n"
      ],
      "metadata": {
        "colab": {
          "base_uri": "https://localhost:8080/",
          "height": 0
        },
        "id": "PrC6Hh77tI3L",
        "outputId": "3481bfdc-51c9-4db9-a74d-51c3e70f7b44"
      },
      "execution_count": 49,
      "outputs": [
        {
          "output_type": "stream",
          "name": "stdout",
          "text": [
            "Index(['satisfacao_com_os_dentes', 'Voce_ja_vez_clareamento_dentario',\n",
            "       'Voce_ja_usou_aparelho_ortodontico', 'Voce_usa_alguma_protese_dentaria',\n",
            "       'Voce_ja_teve_algum_dente_extraido',\n",
            "       'Voce_ja_vez_algum_procedimento_estetico_nos_dentes'],\n",
            "      dtype='object')\n"
          ]
        }
      ]
    },
    {
      "cell_type": "code",
      "source": [
        "print(df.head())\n"
      ],
      "metadata": {
        "colab": {
          "base_uri": "https://localhost:8080/",
          "height": 0
        },
        "id": "L2vG6zLPtV04",
        "outputId": "4c987b1d-51a4-43e1-df1b-dd08f4da4a9e"
      },
      "execution_count": 50,
      "outputs": [
        {
          "output_type": "stream",
          "name": "stdout",
          "text": [
            "   satisfacao_com_os_dentes  Voce_ja_vez_clareamento_dentario  \\\n",
            "0                         1                                 0   \n",
            "1                         1                                 0   \n",
            "2                         1                                 0   \n",
            "3                         1                                 1   \n",
            "4                         1                                 1   \n",
            "\n",
            "   Voce_ja_usou_aparelho_ortodontico  Voce_usa_alguma_protese_dentaria  \\\n",
            "0                                  0                                 0   \n",
            "1                                  1                                 0   \n",
            "2                                  0                                 0   \n",
            "3                                  1                                 0   \n",
            "4                                  1                                 0   \n",
            "\n",
            "   Voce_ja_teve_algum_dente_extraido  \\\n",
            "0                                  1   \n",
            "1                                  0   \n",
            "2                                  0   \n",
            "3                                  0   \n",
            "4                                  1   \n",
            "\n",
            "   Voce_ja_vez_algum_procedimento_estetico_nos_dentes  \n",
            "0                                                  0   \n",
            "1                                                  0   \n",
            "2                                                  0   \n",
            "3                                                  1   \n",
            "4                                                  0   \n"
          ]
        }
      ]
    },
    {
      "cell_type": "code",
      "source": [
        "print(df.columns.tolist())\n"
      ],
      "metadata": {
        "colab": {
          "base_uri": "https://localhost:8080/",
          "height": 0
        },
        "id": "HJ4fd3TZtajh",
        "outputId": "d1ca9421-4a34-4928-a835-45d536e590ba"
      },
      "execution_count": 51,
      "outputs": [
        {
          "output_type": "stream",
          "name": "stdout",
          "text": [
            "['satisfacao_com_os_dentes', 'Voce_ja_vez_clareamento_dentario', 'Voce_ja_usou_aparelho_ortodontico', 'Voce_usa_alguma_protese_dentaria', 'Voce_ja_teve_algum_dente_extraido', 'Voce_ja_vez_algum_procedimento_estetico_nos_dentes']\n"
          ]
        }
      ]
    },
    {
      "cell_type": "code",
      "source": [
        "print(df.isnull().sum())\n"
      ],
      "metadata": {
        "colab": {
          "base_uri": "https://localhost:8080/",
          "height": 0
        },
        "id": "-VZlwaaZtcuI",
        "outputId": "9f6701fc-3cbf-489b-c52d-d717c055e53e"
      },
      "execution_count": 52,
      "outputs": [
        {
          "output_type": "stream",
          "name": "stdout",
          "text": [
            "satisfacao_com_os_dentes                              0\n",
            "Voce_ja_vez_clareamento_dentario                      0\n",
            "Voce_ja_usou_aparelho_ortodontico                     0\n",
            "Voce_usa_alguma_protese_dentaria                      0\n",
            "Voce_ja_teve_algum_dente_extraido                     0\n",
            "Voce_ja_vez_algum_procedimento_estetico_nos_dentes    0\n",
            "dtype: int64\n"
          ]
        }
      ]
    },
    {
      "cell_type": "code",
      "source": [
        "print(df.dtypes)\n"
      ],
      "metadata": {
        "colab": {
          "base_uri": "https://localhost:8080/",
          "height": 0
        },
        "id": "5eOhzfTgteVF",
        "outputId": "6679530f-c5e1-485d-8145-bc6700adc17f"
      },
      "execution_count": 53,
      "outputs": [
        {
          "output_type": "stream",
          "name": "stdout",
          "text": [
            "satisfacao_com_os_dentes                              int64\n",
            "Voce_ja_vez_clareamento_dentario                      int64\n",
            "Voce_ja_usou_aparelho_ortodontico                     int64\n",
            "Voce_usa_alguma_protese_dentaria                      int64\n",
            "Voce_ja_teve_algum_dente_extraido                     int64\n",
            "Voce_ja_vez_algum_procedimento_estetico_nos_dentes    int64\n",
            "dtype: object\n"
          ]
        }
      ]
    },
    {
      "cell_type": "code",
      "source": [
        "try:\n",
        "    X = df[['Voce_ja_vez_clareamento_dentario',\n",
        "             'Voce_ja_usou_aparelho_ortodontico',\n",
        "             'Voce_usa_alguma_protese_dentaria',\n",
        "             'Voce_ja_teve_algum_dente_extraido',\n",
        "             'Voce_ja_vez_algum_procedimento_estetico_nos_dentes']]\n",
        "\n",
        "    y = df['satisfacao_com_os_dentes']\n",
        "except Exception as e:\n",
        "    print(f\"Ocorreu um erro: {e}\")\n"
      ],
      "metadata": {
        "id": "0NzkGjUhtfwx"
      },
      "execution_count": 54,
      "outputs": []
    },
    {
      "cell_type": "code",
      "source": [
        "# Definindo a variável dependente (Y) e as variáveis independentes (X)\n",
        "X = df[['Voce_ja_vez_clareamento_dentario', 'Voce_ja_usou_aparelho_ortodontico',\n",
        "        'Voce_usa_alguma_protese_dentaria', 'Voce_ja_teve_algum_dente_extraido',\n",
        "        'Voce_ja_vez_algum_procedimento_estetico_nos_dentes']]\n",
        "y = df['satisfacao_com_os_dentes']"
      ],
      "metadata": {
        "id": "SeiQOfH1ub0Z"
      },
      "execution_count": 55,
      "outputs": []
    },
    {
      "cell_type": "code",
      "source": [
        "# Adicionando a constante ao modelo (intercepto)\n",
        "X = sm.add_constant(X)"
      ],
      "metadata": {
        "id": "WCzuNl_Aueqf"
      },
      "execution_count": 56,
      "outputs": []
    },
    {
      "cell_type": "code",
      "source": [
        "# Dividindo os dados em conjuntos de treino e teste\n",
        "X_train, X_test, y_train, y_test = train_test_split(X, y, test_size=0.3, random_state=42)\n"
      ],
      "metadata": {
        "id": "3hMI9Xa4ufuM"
      },
      "execution_count": 57,
      "outputs": []
    },
    {
      "cell_type": "code",
      "source": [
        "# Criando e ajustando o modelo de regressão logística\n",
        "logit_model = sm.Logit(y_train, X_train)\n",
        "result = logit_model.fit()"
      ],
      "metadata": {
        "colab": {
          "base_uri": "https://localhost:8080/",
          "height": 0
        },
        "id": "dMHk47s6ujNB",
        "outputId": "fea9303e-17ab-4508-dfd5-321979b795e8"
      },
      "execution_count": 58,
      "outputs": [
        {
          "output_type": "stream",
          "name": "stdout",
          "text": [
            "Optimization terminated successfully.\n",
            "         Current function value: 0.404725\n",
            "         Iterations 6\n"
          ]
        }
      ]
    },
    {
      "cell_type": "code",
      "source": [
        "# Exibindo o resumo do modelo\n",
        "print(result.summary())"
      ],
      "metadata": {
        "colab": {
          "base_uri": "https://localhost:8080/",
          "height": 0
        },
        "id": "6KG3HaDkulsr",
        "outputId": "d08c6f13-6b83-4b91-ea1e-a2f487a8e26d"
      },
      "execution_count": 59,
      "outputs": [
        {
          "output_type": "stream",
          "name": "stdout",
          "text": [
            "                              Logit Regression Results                              \n",
            "====================================================================================\n",
            "Dep. Variable:     satisfacao_com_os_dentes   No. Observations:                   30\n",
            "Model:                                Logit   Df Residuals:                       24\n",
            "Method:                                 MLE   Df Model:                            5\n",
            "Date:                      Fri, 27 Sep 2024   Pseudo R-squ.:                  0.1912\n",
            "Time:                              18:33:26   Log-Likelihood:                -12.142\n",
            "converged:                             True   LL-Null:                       -15.012\n",
            "Covariance Type:                  nonrobust   LLR p-value:                    0.3323\n",
            "======================================================================================================================\n",
            "                                                         coef    std err          z      P>|z|      [0.025      0.975]\n",
            "----------------------------------------------------------------------------------------------------------------------\n",
            "const                                                  2.2660      1.228      1.845      0.065      -0.141       4.673\n",
            "Voce_ja_vez_clareamento_dentario                       0.5050      1.220      0.414      0.679      -1.886       2.896\n",
            "Voce_ja_usou_aparelho_ortodontico                     -0.1004      1.153     -0.087      0.931      -2.361       2.160\n",
            "Voce_usa_alguma_protese_dentaria                      -2.0758      1.255     -1.654      0.098      -4.535       0.383\n",
            "Voce_ja_teve_algum_dente_extraido                     -0.8983      1.325     -0.678      0.498      -3.495       1.698\n",
            "Voce_ja_vez_algum_procedimento_estetico_nos_dentes     0.2258      1.162      0.194      0.846      -2.051       2.503\n",
            "======================================================================================================================\n"
          ]
        }
      ]
    },
    {
      "cell_type": "code",
      "source": [
        "# Fazendo previsões no conjunto de teste\n",
        "y_pred = result.predict(X_test)\n",
        "y_pred_class = [1 if prob > 0.5 else 0 for prob in y_pred]"
      ],
      "metadata": {
        "id": "6W3U-2HHuoFK"
      },
      "execution_count": 60,
      "outputs": []
    },
    {
      "cell_type": "code",
      "source": [
        "from sklearn.metrics import classification_report\n",
        "\n",
        "print(classification_report(y_test, y_pred_class))\n"
      ],
      "metadata": {
        "colab": {
          "base_uri": "https://localhost:8080/",
          "height": 0
        },
        "id": "S-AP9jf1uppO",
        "outputId": "704f0920-9cb3-42e7-f902-a1fa3c0fc729"
      },
      "execution_count": 61,
      "outputs": [
        {
          "output_type": "stream",
          "name": "stdout",
          "text": [
            "              precision    recall  f1-score   support\n",
            "\n",
            "           0       0.00      0.00      0.00         0\n",
            "           1       1.00      0.93      0.96        14\n",
            "\n",
            "    accuracy                           0.93        14\n",
            "   macro avg       0.50      0.46      0.48        14\n",
            "weighted avg       1.00      0.93      0.96        14\n",
            "\n"
          ]
        },
        {
          "output_type": "stream",
          "name": "stderr",
          "text": [
            "/usr/local/lib/python3.10/dist-packages/sklearn/metrics/_classification.py:1531: UndefinedMetricWarning: Recall is ill-defined and being set to 0.0 in labels with no true samples. Use `zero_division` parameter to control this behavior.\n",
            "  _warn_prf(average, modifier, f\"{metric.capitalize()} is\", len(result))\n",
            "/usr/local/lib/python3.10/dist-packages/sklearn/metrics/_classification.py:1531: UndefinedMetricWarning: Recall is ill-defined and being set to 0.0 in labels with no true samples. Use `zero_division` parameter to control this behavior.\n",
            "  _warn_prf(average, modifier, f\"{metric.capitalize()} is\", len(result))\n",
            "/usr/local/lib/python3.10/dist-packages/sklearn/metrics/_classification.py:1531: UndefinedMetricWarning: Recall is ill-defined and being set to 0.0 in labels with no true samples. Use `zero_division` parameter to control this behavior.\n",
            "  _warn_prf(average, modifier, f\"{metric.capitalize()} is\", len(result))\n"
          ]
        }
      ]
    },
    {
      "cell_type": "code",
      "source": [
        "# Avaliar o desempenho do modelo\n",
        "conf_matrix = confusion_matrix(y_test, y_pred_class)\n",
        "accuracy = accuracy_score(y_test, y_pred_class)\n"
      ],
      "metadata": {
        "id": "6h3Q7PegwG5c"
      },
      "execution_count": 65,
      "outputs": []
    },
    {
      "cell_type": "code",
      "source": [
        "# Verificando a distribuição de y_test\n",
        "print(\"Distribuição de y_test:\", y_test.value_counts())\n"
      ],
      "metadata": {
        "id": "WKF4Avj-yCPi",
        "outputId": "a5a06a65-15e6-44e4-e35a-aed71969bde5",
        "colab": {
          "base_uri": "https://localhost:8080/",
          "height": 0
        }
      },
      "execution_count": 74,
      "outputs": [
        {
          "output_type": "stream",
          "name": "stdout",
          "text": [
            "Distribuição de y_test: satisfacao_com_os_dentes\n",
            "1    14\n",
            "Name: count, dtype: int64\n"
          ]
        }
      ]
    },
    {
      "cell_type": "code",
      "source": [
        "from sklearn.model_selection import train_test_split\n",
        "\n",
        "# Dividindo os dados com estratificação para garantir que ambas as classes (0 e 1) estejam presentes\n",
        "X_train, X_test, y_train, y_test = train_test_split(X, y, test_size=0.3, random_state=42, stratify=y)\n",
        "\n",
        "# Verificando a nova distribuição de y_test\n",
        "print(\"Nova distribuição de y_test:\", y_test.value_counts())\n"
      ],
      "metadata": {
        "id": "zvF08vlfyLE9",
        "outputId": "a3b3ec21-de08-485b-8508-b3811358c0b5",
        "colab": {
          "base_uri": "https://localhost:8080/",
          "height": 0
        }
      },
      "execution_count": 75,
      "outputs": [
        {
          "output_type": "stream",
          "name": "stdout",
          "text": [
            "Nova distribuição de y_test: satisfacao_com_os_dentes\n",
            "1    12\n",
            "0     2\n",
            "Name: count, dtype: int64\n"
          ]
        }
      ]
    },
    {
      "cell_type": "code",
      "source": [
        "# Avaliando o desempenho do modelo\n",
        "conf_matrix = confusion_matrix(y_test, y_pred_class)\n",
        "accuracy = accuracy_score(y_test, y_pred_class)\n",
        "\n",
        "# Verificando o formato de y_pred\n",
        "print(f\"Formato de y_pred: {y_pred.shape}\")\n",
        "\n",
        "# Verificando se as probabilidades estão entre 0 e 1\n",
        "print(f\"Probabilidades preditas (y_pred) amostra: {y_pred[:5]}\")\n",
        "\n",
        "# Para AUC-ROC, é necessário usar as probabilidades preditas (y_pred), não as classes (y_pred_class)\n",
        "# Garantindo que y_test e y_pred tenham o formato correto\n",
        "roc_auc = roc_auc_score(y_test, y_pred)  # Usar y_pred que são as probabilidades\n",
        "\n",
        "print(\"Matriz de Confusão:\\n\", conf_matrix)\n",
        "print(\"Acurácia:\", accuracy)\n",
        "print(\"AUC-ROC:\", roc_auc)\n"
      ],
      "metadata": {
        "id": "p6QoueTRw7KD",
        "outputId": "7f25ef45-2594-4ae4-c9c3-5dde0bf2329d",
        "colab": {
          "base_uri": "https://localhost:8080/",
          "height": 0
        }
      },
      "execution_count": 76,
      "outputs": [
        {
          "output_type": "stream",
          "name": "stdout",
          "text": [
            "Formato de y_pred: (14,)\n",
            "Probabilidades preditas (y_pred) amostra: 37    0.916167\n",
            "24    0.880596\n",
            "25    0.816536\n",
            "36    0.816536\n",
            "34    0.854744\n",
            "dtype: float64\n",
            "Matriz de Confusão:\n",
            " [[ 0  2]\n",
            " [ 1 11]]\n",
            "Acurácia: 0.7857142857142857\n",
            "AUC-ROC: 0.6666666666666667\n"
          ]
        }
      ]
    },
    {
      "cell_type": "code",
      "source": [
        "# Plotando a curva ROC\n",
        "fpr, tpr, thresholds = roc_curve(y_test, y_pred)\n",
        "plt.plot(fpr, tpr, label=f'AUC = {roc_auc:.2f}')\n",
        "plt.xlabel('False Positive Rate')\n",
        "plt.ylabel('True Positive Rate')\n",
        "plt.title('Curva ROC')\n",
        "plt.legend(loc='best')\n",
        "plt.show()"
      ],
      "metadata": {
        "id": "2gtTAEtKxbm2",
        "outputId": "2a9faa5a-9aaf-47d4-e1ba-e9966ef214bf",
        "colab": {
          "base_uri": "https://localhost:8080/",
          "height": 472
        }
      },
      "execution_count": 77,
      "outputs": [
        {
          "output_type": "display_data",
          "data": {
            "text/plain": [
              "<Figure size 640x480 with 1 Axes>"
            ],
            "image/png": "[encoded data removed]"
          },
          "metadata": {}
        }
      ]
    },
    {
      "cell_type": "code",
      "source": [
        "# Importando bibliotecas necessárias\n",
        "import pandas as pd\n",
        "import statsmodels.api as sm\n",
        "from sklearn.model_selection import train_test_split\n",
        "from sklearn.metrics import confusion_matrix, accuracy_score, roc_auc_score, roc_curve\n",
        "from statsmodels.stats.proportion import proportion_confint\n",
        "import scipy.stats as stats\n",
        "import matplotlib.pyplot as plt"
      ],
      "metadata": {
        "id": "6Te8GigD1UPr"
      },
      "execution_count": 78,
      "outputs": []
    },
    {
      "cell_type": "code",
      "source": [
        "# Teste de Wald\n",
        "wald_tests = result.wald_test_terms()\n",
        "print(\"\\nTeste de Wald para cada variável:\")\n",
        "print(wald_tests)"
      ],
      "metadata": {
        "id": "1SmJCnIG1V2B",
        "outputId": "ed9828e6-c59a-4052-bf18-f2ba0990db02",
        "colab": {
          "base_uri": "https://localhost:8080/",
          "height": 0
        }
      },
      "execution_count": 79,
      "outputs": [
        {
          "output_type": "stream",
          "name": "stdout",
          "text": [
            "\n",
            "Teste de Wald para cada variável:\n",
            "                                                                        chi2               P>chi2  df constraint\n",
            "const                                                  [[3.403757602184886]]  0.06504808089023915              1\n",
            "Voce_ja_vez_clareamento_dentario                     [[0.17138104654739988]]   0.6788873333085772              1\n",
            "Voce_ja_usou_aparelho_ortodontico                    [[0.00757162586507619]]   0.9306595176213541              1\n",
            "Voce_usa_alguma_protese_dentaria                      [[2.7370619706747243]]  0.09804487895894233              1\n",
            "Voce_ja_teve_algum_dente_extraido                    [[0.45974154408052387]]   0.4977447876535894              1\n",
            "Voce_ja_vez_algum_procedimento_estetico_nos_dentes  [[0.037766811650249185]]   0.8459121327163321              1\n"
          ]
        },
        {
          "output_type": "stream",
          "name": "stderr",
          "text": [
            "/usr/local/lib/python3.10/dist-packages/statsmodels/base/model.py:1912: FutureWarning: The behavior of wald_test will change after 0.14 to returning scalar test statistic values. To get the future behavior now, set scalar to True. To silence this message while retaining the legacy behavior, set scalar to False.\n",
            "  warnings.warn(\n"
          ]
        }
      ]
    },
    {
      "cell_type": "code",
      "source": [
        "# Teste de Razão de Verossimilhança (Likelihood Ratio Test)\n",
        "lr_test = result.llr_pvalue\n",
        "print(\"\\nP-valor do Teste de Razão de Verossimilhança (LR):\", lr_test)\n"
      ],
      "metadata": {
        "id": "YdwKdubu1al1",
        "outputId": "f5483b6e-8198-4ff3-c187-f4fcf482caa8",
        "colab": {
          "base_uri": "https://localhost:8080/",
          "height": 0
        }
      },
      "execution_count": 80,
      "outputs": [
        {
          "output_type": "stream",
          "name": "stdout",
          "text": [
            "\n",
            "P-valor do Teste de Razão de Verossimilhança (LR): 0.3322765221689992\n"
          ]
        }
      ]
    },
    {
      "cell_type": "code",
      "source": [
        "# Pseudo-R² de McFadden\n",
        "pseudo_r2 = result.prsquared\n",
        "print(\"\\nPseudo-R² de McFadden:\", pseudo_r2)"
      ],
      "metadata": {
        "id": "V-psBUk21dgy",
        "outputId": "666ba5ae-b16c-4686-ae96-a43322f9b455",
        "colab": {
          "base_uri": "https://localhost:8080/",
          "height": 0
        }
      },
      "execution_count": 81,
      "outputs": [
        {
          "output_type": "stream",
          "name": "stdout",
          "text": [
            "\n",
            "Pseudo-R² de McFadden: 0.1912016649560664\n"
          ]
        }
      ]
    },
    {
      "cell_type": "code",
      "source": [],
      "metadata": {
        "id": "4cQwEtpZ1hnC"
      },
      "execution_count": null,
      "outputs": []
    }
  ]
}